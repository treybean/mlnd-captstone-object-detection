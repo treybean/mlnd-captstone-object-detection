{
 "cells": [
  {
   "cell_type": "markdown",
   "metadata": {
    "collapsed": true
   },
   "source": [
    "MLND Capstone Development\n",
    "============="
   ]
  },
  {
   "cell_type": "code",
   "execution_count": 1,
   "metadata": {
    "collapsed": true
   },
   "outputs": [],
   "source": [
    "import numpy as np\n",
    "import tensorflow as tf"
   ]
  },
  {
   "cell_type": "markdown",
   "metadata": {
    "collapsed": true
   },
   "source": [
    "Data exploration\n",
    "-------------\n",
    "\n",
    "First, we need to download our dataset."
   ]
  },
  {
   "cell_type": "code",
   "execution_count": 2,
   "metadata": {},
   "outputs": [
    {
     "name": "stdout",
     "output_type": "stream",
     "text": [
      "Testing...\n",
      "PASCAL VOC 2007 data files downloaded.\n",
      "PASCAL VOC 2007 data files extracted.\n"
     ]
    }
   ],
   "source": [
    "from urllib import urlretrieve\n",
    "from os.path import isfile, isdir\n",
    "from os import mkdir\n",
    "from tqdm import tqdm\n",
    "import tests\n",
    "import tarfile\n",
    "\n",
    "data_folder_path = 'data'\n",
    "pascal_2007_foldername = 'pascal_2007'\n",
    "pascal_2007_folderpath = \"{}/{}\".format(data_folder_path, pascal_2007_foldername)\n",
    "pascal_2007_files = {'VOCtrainval_06-Nov-2007.tar': 'http://host.robots.ox.ac.uk/pascal/VOC/voc2007/VOCtrainval_06-Nov-2007.tar',\n",
    "                     'VOCtest_06-Nov-2007.tar': 'http://host.robots.ox.ac.uk/pascal/VOC/voc2007/VOCtest_06-Nov-2007.tar',\n",
    "                     'VOCdevkit_08-Jun-2007.tar': 'http://host.robots.ox.ac.uk/pascal/VOC/voc2007/VOCdevkit_08-Jun-2007.tar'}\n",
    "\n",
    "class DLProgress(tqdm):\n",
    "    last_block = 0\n",
    "\n",
    "    def hook(self, block_num=1, block_size=1, total_size=None):\n",
    "        self.total = total_size\n",
    "        self.update((block_num - self.last_block) * block_size)\n",
    "        self.last_block = block_num\n",
    "\n",
    "# Create data director if it doesn't exist\n",
    "if not isdir(data_folder_path):\n",
    "    mkdir(data_folder_path)\n",
    "    \n",
    "# Create pascal_2007 data directory if it doesn't exist\n",
    "if not isdir(pascal_2007_folderpath):\n",
    "    mkdir(pascal_2007_folderpath)\n",
    "        \n",
    "# Download & extract data files\n",
    "for filename, url in pascal_2007_files.iteritems():\n",
    "    filepath = \"./{}/{}\".format(pascal_2007_folderpath, filename)\n",
    "    \n",
    "    if not isfile(filepath):\n",
    "        with DLProgress(unit='B', unit_scale=True, miniters=1, desc=filename) as pbar:\n",
    "            urlretrieve(url, filepath, pbar.hook)\n",
    "\n",
    "    # Extract data achrive files\n",
    "    # Todo: Consider checking for already existing extractions, so we don't\n",
    "    # have to re-extract the files.\n",
    "    with tarfile.open(filepath) as tar:\n",
    "        tar.extractall(\"{}/\".format(pascal_2007_folderpath))\n",
    "        tar.close()\n",
    "\n",
    "print 'Testing...'\n",
    "tests.test_pascal_2007_downloads()\n",
    "tests.test_pascal_2007_extracts()"
   ]
  },
  {
   "cell_type": "code",
   "execution_count": null,
   "metadata": {
    "collapsed": true
   },
   "outputs": [],
   "source": []
  }
 ],
 "metadata": {
  "hide_input": false,
  "kernelspec": {
   "display_name": "Python 2",
   "language": "python",
   "name": "python2"
  },
  "language_info": {
   "codemirror_mode": {
    "name": "ipython",
    "version": 2
   },
   "file_extension": ".py",
   "mimetype": "text/x-python",
   "name": "python",
   "nbconvert_exporter": "python",
   "pygments_lexer": "ipython2",
   "version": "2.7.6"
  }
 },
 "nbformat": 4,
 "nbformat_minor": 2
}
